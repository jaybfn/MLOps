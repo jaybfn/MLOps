{
 "cells": [
  {
   "cell_type": "code",
   "execution_count": 1,
   "metadata": {},
   "outputs": [],
   "source": [
    "\n",
    "from mlflow.tracking import MlflowClient"
   ]
  },
  {
   "cell_type": "code",
   "execution_count": 2,
   "metadata": {},
   "outputs": [],
   "source": [
    "MLFLOW_TRACKING_URI = \"sqlite:///prediction.db\"\n",
    "client= MlflowClient(tracking_uri=MLFLOW_TRACKING_URI)"
   ]
  },
  {
   "cell_type": "code",
   "execution_count": 5,
   "metadata": {},
   "outputs": [
    {
     "data": {
      "text/plain": [
       "[<Experiment: artifact_location='./mlruns/2', creation_time=1666626280346, experiment_id='2', last_update_time=1666626280346, lifecycle_stage='active', name='my-cool-exp', tags={}>,\n",
       " <Experiment: artifact_location='./mlruns/1', creation_time=1664455787663, experiment_id='1', last_update_time=1664455787663, lifecycle_stage='active', name='nycity-taxi-experiment', tags={}>,\n",
       " <Experiment: artifact_location='./mlruns/0', creation_time=None, experiment_id='0', last_update_time=None, lifecycle_stage='active', name='Default', tags={}>]"
      ]
     },
     "execution_count": 5,
     "metadata": {},
     "output_type": "execute_result"
    }
   ],
   "source": [
    "client.search_experiments()"
   ]
  },
  {
   "cell_type": "code",
   "execution_count": 4,
   "metadata": {},
   "outputs": [
    {
     "data": {
      "text/plain": [
       "'2'"
      ]
     },
     "execution_count": 4,
     "metadata": {},
     "output_type": "execute_result"
    }
   ],
   "source": [
    "# to create new experiment like we did in the predict_duration.ipynb by using mlflow.set_experiment\n",
    "client.create_experiment(name=\"my-cool-exp\")"
   ]
  },
  {
   "cell_type": "code",
   "execution_count": 25,
   "metadata": {},
   "outputs": [],
   "source": [
    "from mlflow.entities import ViewType\n",
    "runs = client.search_runs(experiment_ids='1',\n",
    "    filter_string=\"\",#\"metrics.rmse < 6.8\",\n",
    "    run_view_type=ViewType.ACTIVE_ONLY,\n",
    "    max_results = 5,\n",
    "    order_by=[\"metrics.rmse ASC\"]\n",
    "    )"
   ]
  },
  {
   "cell_type": "code",
   "execution_count": 26,
   "metadata": {},
   "outputs": [
    {
     "data": {
      "text/plain": [
       "[<Run: data=<RunData: metrics={'rmse': 6.320476772946448}, params={'learning_rate': '0.20472',\n",
       "  'max_depth': '17',\n",
       "  'min_child_weight': '1.240261172',\n",
       "  'objective': 'reg:linear',\n",
       "  'reg_alpha': '0.285678967',\n",
       "  'reg_lambda': '0.004264404814',\n",
       "  'seed': '42'}, tags={'mlflow.log-model.history': '[{\"run_id\": \"230f048a415c40d59b562f92cc8efb0d\", '\n",
       "                              '\"artifact_path\": \"model_mlflow\", '\n",
       "                              '\"utc_time_created\": \"2022-10-16 '\n",
       "                              '12:10:25.259643\", \"flavors\": {\"python_function\": '\n",
       "                              '{\"loader_module\": \"mlflow.xgboost\", '\n",
       "                              '\"python_version\": \"3.9.13\", \"data\": \"model.xgb\", '\n",
       "                              '\"env\": \"conda.yaml\"}, \"xgboost\": {\"xgb_version\": '\n",
       "                              '\"1.6.2\", \"data\": \"model.xgb\", \"model_class\": '\n",
       "                              '\"xgboost.core.Booster\", \"code\": null}}, '\n",
       "                              '\"model_uuid\": '\n",
       "                              '\"7c59cfeca14d4d5a8d170ddafd8b8c93\", '\n",
       "                              '\"mlflow_version\": \"1.29.0\"}]',\n",
       "  'mlflow.runName': 'able-bird-832',\n",
       "  'mlflow.source.name': '/home/Asus/miniconda3/envs/Mlflow/lib/python3.9/site-packages/ipykernel_launcher.py',\n",
       "  'mlflow.source.type': 'LOCAL',\n",
       "  'mlflow.user': 'Asus',\n",
       "  'model': 'xgboost'}>, info=<RunInfo: artifact_uri='./mlruns/1/230f048a415c40d59b562f92cc8efb0d/artifacts', end_time=1665922227323, experiment_id='1', lifecycle_stage='active', run_id='230f048a415c40d59b562f92cc8efb0d', run_uuid='230f048a415c40d59b562f92cc8efb0d', start_time=1665921265705, status='FINISHED', user_id='Asus'>>,\n",
       " <Run: data=<RunData: metrics={'rmse': 6.403354685253321}, params={'max_depth': '85', 'seed': '42'}, tags={'mlflow.runName': 'amusing-skunk-459',\n",
       "  'mlflow.source.name': '/home/Asus/miniconda3/envs/Mlflow/lib/python3.9/site-packages/ipykernel_launcher.py',\n",
       "  'mlflow.source.type': 'LOCAL',\n",
       "  'mlflow.user': 'Asus',\n",
       "  'model': 'xgboost'}>, info=<RunInfo: artifact_uri='./mlruns/1/037de7e3b5fb4aa384c6360bee801fc5/artifacts', end_time=1666478908845, experiment_id='1', lifecycle_stage='active', run_id='037de7e3b5fb4aa384c6360bee801fc5', run_uuid='037de7e3b5fb4aa384c6360bee801fc5', start_time=1666478865384, status='FINISHED', user_id='Asus'>>,\n",
       " <Run: data=<RunData: metrics={'rmse': 6.416513164792643}, params={'max_depth': '99', 'seed': '42'}, tags={'mlflow.runName': 'luminous-duck-931',\n",
       "  'mlflow.source.name': '/home/Asus/miniconda3/envs/Mlflow/lib/python3.9/site-packages/ipykernel_launcher.py',\n",
       "  'mlflow.source.type': 'LOCAL',\n",
       "  'mlflow.user': 'Asus',\n",
       "  'model': 'xgboost'}>, info=<RunInfo: artifact_uri='./mlruns/1/36fdef8ba83c41b493de760818517c46/artifacts', end_time=1666479068827, experiment_id='1', lifecycle_stage='active', run_id='36fdef8ba83c41b493de760818517c46', run_uuid='36fdef8ba83c41b493de760818517c46', start_time=1666478908861, status='FINISHED', user_id='Asus'>>,\n",
       " <Run: data=<RunData: metrics={'rmse': 6.863208912457952,\n",
       "  'training_mae': 4.119544492415653,\n",
       "  'training_mse': 36.22233887309601,\n",
       "  'training_r2_score': 0.7342611284815694,\n",
       "  'training_rmse': 6.0184997194563365,\n",
       "  'training_score': 0.7342611284815694}, params={'alpha': '0.9',\n",
       "  'ccp_alpha': '0.0',\n",
       "  'criterion': 'friedman_mse',\n",
       "  'init': 'None',\n",
       "  'learning_rate': '0.1',\n",
       "  'loss': 'squared_error',\n",
       "  'max_depth': '3',\n",
       "  'max_features': 'None',\n",
       "  'max_leaf_nodes': 'None',\n",
       "  'min_impurity_decrease': '0.0',\n",
       "  'min_samples_leaf': '1',\n",
       "  'min_samples_split': '2',\n",
       "  'min_weight_fraction_leaf': '0.0',\n",
       "  'n_estimators': '100',\n",
       "  'n_iter_no_change': 'None',\n",
       "  'random_state': 'None',\n",
       "  'subsample': '1.0',\n",
       "  'tol': '0.0001',\n",
       "  'train-data-path': './data/green_tripdata_2021-01.csv',\n",
       "  'valid-data-path': './data/green_tripdata_2021-02.csv',\n",
       "  'validation_fraction': '0.1',\n",
       "  'verbose': '0',\n",
       "  'warm_start': 'False'}, tags={'estimator_class': 'sklearn.ensemble._gb.GradientBoostingRegressor',\n",
       "  'estimator_name': 'GradientBoostingRegressor',\n",
       "  'mlflow.log-model.history': '[{\"run_id\": \"579b8c0f24a145cbab9cf304e6c49ab8\", '\n",
       "                              '\"artifact_path\": \"model\", \"utc_time_created\": '\n",
       "                              '\"2022-10-17 13:42:44.967133\", \"flavors\": '\n",
       "                              '{\"python_function\": {\"model_path\": \"model.pkl\", '\n",
       "                              '\"predict_fn\": \"predict\", \"loader_module\": '\n",
       "                              '\"mlflow.sklearn\", \"python_version\": \"3.9.13\", '\n",
       "                              '\"env\": \"conda.yaml\"}, \"sklearn\": '\n",
       "                              '{\"pickled_model\": \"model.pkl\", '\n",
       "                              '\"sklearn_version\": \"1.1.2\", '\n",
       "                              '\"serialization_format\": \"cloudpickle\", \"code\": '\n",
       "                              'null}}, \"model_uuid\": '\n",
       "                              '\"083213475a194373ab0b831557b5bb98\", '\n",
       "                              '\"mlflow_version\": \"1.29.0\", \"signature\": '\n",
       "                              '{\"inputs\": \"[{\\\\\"type\\\\\": \\\\\"tensor\\\\\", '\n",
       "                              '\\\\\"tensor-spec\\\\\": {\\\\\"dtype\\\\\": \\\\\"float64\\\\\", '\n",
       "                              '\\\\\"shape\\\\\": [-1, 13298]}}]\", \"outputs\": '\n",
       "                              '\"[{\\\\\"type\\\\\": \\\\\"tensor\\\\\", \\\\\"tensor-spec\\\\\": '\n",
       "                              '{\\\\\"dtype\\\\\": \\\\\"float64\\\\\", \\\\\"shape\\\\\": '\n",
       "                              '[-1]}}]\"}}]',\n",
       "  'mlflow.runName': 'traveling-duck-681',\n",
       "  'mlflow.source.name': '/home/Asus/miniconda3/envs/Mlflow/lib/python3.9/site-packages/ipykernel_launcher.py',\n",
       "  'mlflow.source.type': 'LOCAL',\n",
       "  'mlflow.user': 'Asus',\n",
       "  'model': 'gradientboosting'}>, info=<RunInfo: artifact_uri='./mlruns/1/579b8c0f24a145cbab9cf304e6c49ab8/artifacts', end_time=1666014167046, experiment_id='1', lifecycle_stage='active', run_id='579b8c0f24a145cbab9cf304e6c49ab8', run_uuid='579b8c0f24a145cbab9cf304e6c49ab8', start_time=1666014159892, status='FINISHED', user_id='Asus'>>,\n",
       " <Run: data=<RunData: metrics={'rmse': 6.883854801591778,\n",
       "  'training_mae': 1.5943155866848446,\n",
       "  'training_mse': 5.807406006509015,\n",
       "  'training_r2_score': 0.9573949787167028,\n",
       "  'training_rmse': 2.409856013646669,\n",
       "  'training_score': 0.9573949787167028}, params={'bootstrap': 'True',\n",
       "  'ccp_alpha': '0.0',\n",
       "  'criterion': 'squared_error',\n",
       "  'max_depth': 'None',\n",
       "  'max_features': '1.0',\n",
       "  'max_leaf_nodes': 'None',\n",
       "  'max_samples': 'None',\n",
       "  'min_impurity_decrease': '0.0',\n",
       "  'min_samples_leaf': '1',\n",
       "  'min_samples_split': '2',\n",
       "  'min_weight_fraction_leaf': '0.0',\n",
       "  'n_estimators': '100',\n",
       "  'n_jobs': 'None',\n",
       "  'oob_score': 'False',\n",
       "  'random_state': 'None',\n",
       "  'train-data-path': './data/green_tripdata_2021-01.csv',\n",
       "  'valid-data-path': './data/green_tripdata_2021-02.csv',\n",
       "  'verbose': '0',\n",
       "  'warm_start': 'False'}, tags={'estimator_class': 'sklearn.ensemble._forest.RandomForestRegressor',\n",
       "  'estimator_name': 'RandomForestRegressor',\n",
       "  'mlflow.log-model.history': '[{\"run_id\": \"7de858ea07d144acae4ac9af02b5c112\", '\n",
       "                              '\"artifact_path\": \"model\", \"utc_time_created\": '\n",
       "                              '\"2022-10-17 13:42:28.128903\", \"flavors\": '\n",
       "                              '{\"python_function\": {\"model_path\": \"model.pkl\", '\n",
       "                              '\"predict_fn\": \"predict\", \"loader_module\": '\n",
       "                              '\"mlflow.sklearn\", \"python_version\": \"3.9.13\", '\n",
       "                              '\"env\": \"conda.yaml\"}, \"sklearn\": '\n",
       "                              '{\"pickled_model\": \"model.pkl\", '\n",
       "                              '\"sklearn_version\": \"1.1.2\", '\n",
       "                              '\"serialization_format\": \"cloudpickle\", \"code\": '\n",
       "                              'null}}, \"model_uuid\": '\n",
       "                              '\"b2a14ecdba1e4741bc7c972bd06d1fb7\", '\n",
       "                              '\"mlflow_version\": \"1.29.0\", \"signature\": '\n",
       "                              '{\"inputs\": \"[{\\\\\"type\\\\\": \\\\\"tensor\\\\\", '\n",
       "                              '\\\\\"tensor-spec\\\\\": {\\\\\"dtype\\\\\": \\\\\"float64\\\\\", '\n",
       "                              '\\\\\"shape\\\\\": [-1, 13298]}}]\", \"outputs\": '\n",
       "                              '\"[{\\\\\"type\\\\\": \\\\\"tensor\\\\\", \\\\\"tensor-spec\\\\\": '\n",
       "                              '{\\\\\"dtype\\\\\": \\\\\"float64\\\\\", \\\\\"shape\\\\\": '\n",
       "                              '[-1]}}]\"}}]',\n",
       "  'mlflow.runName': 'handsome-zebra-897',\n",
       "  'mlflow.source.name': '/home/Asus/miniconda3/envs/Mlflow/lib/python3.9/site-packages/ipykernel_launcher.py',\n",
       "  'mlflow.source.type': 'LOCAL',\n",
       "  'mlflow.user': 'Asus'}>, info=<RunInfo: artifact_uri='./mlruns/1/7de858ea07d144acae4ac9af02b5c112/artifacts', end_time=1666014159881, experiment_id='1', lifecycle_stage='active', run_id='7de858ea07d144acae4ac9af02b5c112', run_uuid='7de858ea07d144acae4ac9af02b5c112', start_time=1666012773078, status='FINISHED', user_id='Asus'>>]"
      ]
     },
     "execution_count": 26,
     "metadata": {},
     "output_type": "execute_result"
    }
   ],
   "source": [
    "runs"
   ]
  },
  {
   "cell_type": "code",
   "execution_count": 27,
   "metadata": {},
   "outputs": [
    {
     "name": "stdout",
     "output_type": "stream",
     "text": [
      "run id:230f048a415c40d59b562f92cc8efb0d, rmse: 6.3205\n",
      "run id:037de7e3b5fb4aa384c6360bee801fc5, rmse: 6.4034\n",
      "run id:36fdef8ba83c41b493de760818517c46, rmse: 6.4165\n",
      "run id:579b8c0f24a145cbab9cf304e6c49ab8, rmse: 6.8632\n",
      "run id:7de858ea07d144acae4ac9af02b5c112, rmse: 6.8839\n"
     ]
    }
   ],
   "source": [
    "for run in runs:\n",
    "    print(f\"run id:{run.info.run_id}, rmse: {run.data.metrics['rmse']:.4f}\")"
   ]
  },
  {
   "cell_type": "code",
   "execution_count": 21,
   "metadata": {},
   "outputs": [],
   "source": [
    "import mlflow\n",
    "\n",
    "mlflow.set_tracking_uri(MLFLOW_TRACKING_URI)"
   ]
  },
  {
   "cell_type": "code",
   "execution_count": 29,
   "metadata": {},
   "outputs": [
    {
     "name": "stderr",
     "output_type": "stream",
     "text": [
      "Registered model 'nyc-taxi-regressor' already exists. Creating a new version of this model...\n",
      "2022/10/24 16:14:21 INFO mlflow.tracking._model_registry.client: Waiting up to 300 seconds for model version to finish creation.                     Model name: nyc-taxi-regressor, version 3\n",
      "Created version '3' of model 'nyc-taxi-regressor'.\n"
     ]
    },
    {
     "data": {
      "text/plain": [
       "<ModelVersion: creation_timestamp=1666628061547, current_stage='None', description=None, last_updated_timestamp=1666628061547, name='nyc-taxi-regressor', run_id='7de858ea07d144acae4ac9af02b5c112', run_link=None, source='./mlruns/1/7de858ea07d144acae4ac9af02b5c112/artifacts/model', status='READY', status_message=None, tags={}, user_id=None, version=3>"
      ]
     },
     "execution_count": 29,
     "metadata": {},
     "output_type": "execute_result"
    }
   ],
   "source": [
    "run_id =\"7de858ea07d144acae4ac9af02b5c112\" \n",
    "model_uri =f\"runs:/{run_id}/model\"\n",
    "# registed a new version of a model \n",
    "mlflow.register_model(model_uri=model_uri, name = \"nyc-taxi-regressor\")"
   ]
  },
  {
   "cell_type": "code",
   "execution_count": 31,
   "metadata": {},
   "outputs": [
    {
     "data": {
      "text/plain": [
       "[<RegisteredModel: creation_timestamp=1666625407463, description='This is NYC taxi predictor for the trip duration!', last_updated_timestamp=1666628061547, latest_versions=[<ModelVersion: creation_timestamp=1666625548429, current_stage='Staging', description='', last_updated_timestamp=1666625892199, name='nyc-taxi-regressor', run_id='579b8c0f24a145cbab9cf304e6c49ab8', run_link='', source='./mlruns/1/579b8c0f24a145cbab9cf304e6c49ab8/artifacts/model', status='READY', status_message=None, tags={}, user_id=None, version=2>,\n",
       "  <ModelVersion: creation_timestamp=1666628061547, current_stage='None', description=None, last_updated_timestamp=1666628061547, name='nyc-taxi-regressor', run_id='7de858ea07d144acae4ac9af02b5c112', run_link=None, source='./mlruns/1/7de858ea07d144acae4ac9af02b5c112/artifacts/model', status='READY', status_message=None, tags={}, user_id=None, version=3>], name='nyc-taxi-regressor', tags={}>]"
      ]
     },
     "execution_count": 31,
     "metadata": {},
     "output_type": "execute_result"
    }
   ],
   "source": [
    "client.search_registered_models()"
   ]
  },
  {
   "cell_type": "code",
   "execution_count": 32,
   "metadata": {},
   "outputs": [
    {
     "name": "stdout",
     "output_type": "stream",
     "text": [
      "version: 2, stage: Staging\n",
      "version: 3, stage: None\n"
     ]
    }
   ],
   "source": [
    "model_name = \"nyc-taxi-regressor\"\n",
    "latest_versions = client.get_latest_versions(name=model_name)\n",
    "\n",
    "for version in latest_versions:\n",
    "    print(f\"version: {version.version}, stage: {version.current_stage}\")"
   ]
  },
  {
   "cell_type": "code",
   "execution_count": 34,
   "metadata": {},
   "outputs": [
    {
     "data": {
      "text/plain": [
       "<ModelVersion: creation_timestamp=1666628061547, current_stage='Staging', description=None, last_updated_timestamp=1666645364652, name='nyc-taxi-regressor', run_id='7de858ea07d144acae4ac9af02b5c112', run_link=None, source='./mlruns/1/7de858ea07d144acae4ac9af02b5c112/artifacts/model', status='READY', status_message=None, tags={}, user_id=None, version=3>"
      ]
     },
     "execution_count": 34,
     "metadata": {},
     "output_type": "execute_result"
    }
   ],
   "source": [
    "model_version = 3\n",
    "stage = \"Staging\"\n",
    "client.transition_model_version_stage(\n",
    "    name=model_name,\n",
    "    version = model_version,\n",
    "    stage = stage,\n",
    "    archive_existing_versions=False\n",
    ")"
   ]
  },
  {
   "cell_type": "code",
   "execution_count": 37,
   "metadata": {},
   "outputs": [
    {
     "data": {
      "text/plain": [
       "<ModelVersion: creation_timestamp=1666628061547, current_stage='Staging', description='This model version 3 was transitioned to Staging on 2022-10-24', last_updated_timestamp=1666645457752, name='nyc-taxi-regressor', run_id='7de858ea07d144acae4ac9af02b5c112', run_link=None, source='./mlruns/1/7de858ea07d144acae4ac9af02b5c112/artifacts/model', status='READY', status_message=None, tags={}, user_id=None, version=3>"
      ]
     },
     "execution_count": 37,
     "metadata": {},
     "output_type": "execute_result"
    }
   ],
   "source": [
    "from datetime import datetime\n",
    "date = datetime.today().date()\n",
    "client.update_model_version(\n",
    "    name = model_name,\n",
    "    version = 3,\n",
    "    description=f\"This model version {model_version} was transitioned to {stage} on {date}\"\n",
    ")"
   ]
  },
  {
   "cell_type": "code",
   "execution_count": null,
   "metadata": {},
   "outputs": [],
   "source": []
  }
 ],
 "metadata": {
  "kernelspec": {
   "display_name": "Python 3.9.13 ('Mlflow')",
   "language": "python",
   "name": "python3"
  },
  "language_info": {
   "codemirror_mode": {
    "name": "ipython",
    "version": 3
   },
   "file_extension": ".py",
   "mimetype": "text/x-python",
   "name": "python",
   "nbconvert_exporter": "python",
   "pygments_lexer": "ipython3",
   "version": "3.9.13"
  },
  "orig_nbformat": 4,
  "vscode": {
   "interpreter": {
    "hash": "f1e272135a2927c7cfd3c369775903b2e25ef34f265822c9aaca7ad71bfa9d10"
   }
  }
 },
 "nbformat": 4,
 "nbformat_minor": 2
}
