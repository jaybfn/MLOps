{
 "cells": [
  {
   "cell_type": "code",
   "execution_count": 1,
   "metadata": {},
   "outputs": [],
   "source": [
    "\n",
    "from mlflow.tracking import MlflowClient"
   ]
  },
  {
   "cell_type": "code",
   "execution_count": 2,
   "metadata": {},
   "outputs": [],
   "source": [
    "MLFLOW_TRACKING_URI = \"sqlite:///prediction.db\"\n",
    "client= MlflowClient(tracking_uri=MLFLOW_TRACKING_URI)"
   ]
  },
  {
   "cell_type": "code",
   "execution_count": 5,
   "metadata": {},
   "outputs": [
    {
     "data": {
      "text/plain": [
       "[<Experiment: artifact_location='./mlruns/2', creation_time=1666626280346, experiment_id='2', last_update_time=1666626280346, lifecycle_stage='active', name='my-cool-exp', tags={}>,\n",
       " <Experiment: artifact_location='./mlruns/1', creation_time=1664455787663, experiment_id='1', last_update_time=1664455787663, lifecycle_stage='active', name='nycity-taxi-experiment', tags={}>,\n",
       " <Experiment: artifact_location='./mlruns/0', creation_time=None, experiment_id='0', last_update_time=None, lifecycle_stage='active', name='Default', tags={}>]"
      ]
     },
     "execution_count": 5,
     "metadata": {},
     "output_type": "execute_result"
    }
   ],
   "source": [
    "client.search_experiments()"
   ]
  },
  {
   "cell_type": "code",
   "execution_count": 4,
   "metadata": {},
   "outputs": [
    {
     "data": {
      "text/plain": [
       "'2'"
      ]
     },
     "execution_count": 4,
     "metadata": {},
     "output_type": "execute_result"
    }
   ],
   "source": [
    "# to create new experiment like we did in the predict_duration.ipynb by using mlflow.set_experiment\n",
    "client.create_experiment(name=\"my-cool-exp\")"
   ]
  },
  {
   "cell_type": "code",
   "execution_count": 18,
   "metadata": {},
   "outputs": [],
   "source": [
    "from mlflow.entities import ViewType\n",
    "runs = client.search_runs(experiment_ids='1',\n",
    "    filter_string=\"metrics.rmse < 6.8\",\n",
    "    run_view_type=ViewType.ACTIVE_ONLY,\n",
    "    max_results = 5,\n",
    "    order_by=[\"metrics.rmse ASC\"]\n",
    "    )"
   ]
  },
  {
   "cell_type": "code",
   "execution_count": 19,
   "metadata": {},
   "outputs": [
    {
     "data": {
      "text/plain": [
       "[<Run: data=<RunData: metrics={'rmse': 6.320476772946448}, params={'learning_rate': '0.20472',\n",
       "  'max_depth': '17',\n",
       "  'min_child_weight': '1.240261172',\n",
       "  'objective': 'reg:linear',\n",
       "  'reg_alpha': '0.285678967',\n",
       "  'reg_lambda': '0.004264404814',\n",
       "  'seed': '42'}, tags={'mlflow.log-model.history': '[{\"run_id\": \"230f048a415c40d59b562f92cc8efb0d\", '\n",
       "                              '\"artifact_path\": \"model_mlflow\", '\n",
       "                              '\"utc_time_created\": \"2022-10-16 '\n",
       "                              '12:10:25.259643\", \"flavors\": {\"python_function\": '\n",
       "                              '{\"loader_module\": \"mlflow.xgboost\", '\n",
       "                              '\"python_version\": \"3.9.13\", \"data\": \"model.xgb\", '\n",
       "                              '\"env\": \"conda.yaml\"}, \"xgboost\": {\"xgb_version\": '\n",
       "                              '\"1.6.2\", \"data\": \"model.xgb\", \"model_class\": '\n",
       "                              '\"xgboost.core.Booster\", \"code\": null}}, '\n",
       "                              '\"model_uuid\": '\n",
       "                              '\"7c59cfeca14d4d5a8d170ddafd8b8c93\", '\n",
       "                              '\"mlflow_version\": \"1.29.0\"}]',\n",
       "  'mlflow.runName': 'able-bird-832',\n",
       "  'mlflow.source.name': '/home/Asus/miniconda3/envs/Mlflow/lib/python3.9/site-packages/ipykernel_launcher.py',\n",
       "  'mlflow.source.type': 'LOCAL',\n",
       "  'mlflow.user': 'Asus',\n",
       "  'model': 'xgboost'}>, info=<RunInfo: artifact_uri='./mlruns/1/230f048a415c40d59b562f92cc8efb0d/artifacts', end_time=1665922227323, experiment_id='1', lifecycle_stage='active', run_id='230f048a415c40d59b562f92cc8efb0d', run_uuid='230f048a415c40d59b562f92cc8efb0d', start_time=1665921265705, status='FINISHED', user_id='Asus'>>,\n",
       " <Run: data=<RunData: metrics={'rmse': 6.403354685253321}, params={'max_depth': '85', 'seed': '42'}, tags={'mlflow.runName': 'amusing-skunk-459',\n",
       "  'mlflow.source.name': '/home/Asus/miniconda3/envs/Mlflow/lib/python3.9/site-packages/ipykernel_launcher.py',\n",
       "  'mlflow.source.type': 'LOCAL',\n",
       "  'mlflow.user': 'Asus',\n",
       "  'model': 'xgboost'}>, info=<RunInfo: artifact_uri='./mlruns/1/037de7e3b5fb4aa384c6360bee801fc5/artifacts', end_time=1666478908845, experiment_id='1', lifecycle_stage='active', run_id='037de7e3b5fb4aa384c6360bee801fc5', run_uuid='037de7e3b5fb4aa384c6360bee801fc5', start_time=1666478865384, status='FINISHED', user_id='Asus'>>,\n",
       " <Run: data=<RunData: metrics={'rmse': 6.416513164792643}, params={'max_depth': '99', 'seed': '42'}, tags={'mlflow.runName': 'luminous-duck-931',\n",
       "  'mlflow.source.name': '/home/Asus/miniconda3/envs/Mlflow/lib/python3.9/site-packages/ipykernel_launcher.py',\n",
       "  'mlflow.source.type': 'LOCAL',\n",
       "  'mlflow.user': 'Asus',\n",
       "  'model': 'xgboost'}>, info=<RunInfo: artifact_uri='./mlruns/1/36fdef8ba83c41b493de760818517c46/artifacts', end_time=1666479068827, experiment_id='1', lifecycle_stage='active', run_id='36fdef8ba83c41b493de760818517c46', run_uuid='36fdef8ba83c41b493de760818517c46', start_time=1666478908861, status='FINISHED', user_id='Asus'>>]"
      ]
     },
     "execution_count": 19,
     "metadata": {},
     "output_type": "execute_result"
    }
   ],
   "source": [
    "runs"
   ]
  },
  {
   "cell_type": "code",
   "execution_count": 20,
   "metadata": {},
   "outputs": [
    {
     "name": "stdout",
     "output_type": "stream",
     "text": [
      "run id:230f048a415c40d59b562f92cc8efb0d, rmse: 6.3205\n",
      "run id:037de7e3b5fb4aa384c6360bee801fc5, rmse: 6.4034\n",
      "run id:36fdef8ba83c41b493de760818517c46, rmse: 6.4165\n"
     ]
    }
   ],
   "source": [
    "for run in runs:\n",
    "    print(f\"run id:{run.info.run_id}, rmse: {run.data.metrics['rmse']:.4f}\")"
   ]
  },
  {
   "cell_type": "code",
   "execution_count": null,
   "metadata": {},
   "outputs": [],
   "source": []
  }
 ],
 "metadata": {
  "kernelspec": {
   "display_name": "Python 3.9.13 ('Mlflow')",
   "language": "python",
   "name": "python3"
  },
  "language_info": {
   "codemirror_mode": {
    "name": "ipython",
    "version": 3
   },
   "file_extension": ".py",
   "mimetype": "text/x-python",
   "name": "python",
   "nbconvert_exporter": "python",
   "pygments_lexer": "ipython3",
   "version": "3.9.13"
  },
  "orig_nbformat": 4,
  "vscode": {
   "interpreter": {
    "hash": "f1e272135a2927c7cfd3c369775903b2e25ef34f265822c9aaca7ad71bfa9d10"
   }
  }
 },
 "nbformat": 4,
 "nbformat_minor": 2
}
